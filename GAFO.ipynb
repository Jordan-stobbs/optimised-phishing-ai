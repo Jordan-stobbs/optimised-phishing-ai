{
 "cells": [
  {
   "cell_type": "code",
   "execution_count": null,
   "metadata": {},
   "outputs": [],
   "source": [
    "#taken from http://www.philipkalinda.com/ds8.html\n",
    "import numpy as np\n",
    "import time\n",
    "from sklearn.model_selection import cross_val_score, KFold\n",
    "from sklearn.metrics import accuracy_score, r2_score\n",
    "from sklearn.decomposition import PCA\n",
    "import matplotlib.pyplot as plt"
   ]
  },
  {
   "cell_type": "code",
   "execution_count": null,
   "metadata": {},
   "outputs": [],
   "source": [
    "def __init__(self, mutation_rate = 0.001, iterations = 100, pool_size = 50):\n",
    "        self.mutation_rate = mutation_rate\n",
    "        self.iterations = iterations\n",
    "        self.pool_size = pool_size\n",
    "        self.pool = np.array([])\n",
    "        self.iterations_results = {}\n",
    "        self.kf = KFold(n_splits=10)"
   ]
  },
  {
   "cell_type": "code",
   "execution_count": null,
   "metadata": {},
   "outputs": [],
   "source": [
    "def fit(self, model, _type, X, y, cv=True, pca=False):    \n",
    "    self.__init__(self.mutation_rate, self.iterations, self.pool_size)\n",
    "    is_array = False\n",
    "    try:\n",
    "        X = np.array(X)\n",
    "        is_array = True\n",
    "    except:\n",
    "        continue\n",
    "    \n",
    "    self.pool = np.random.randint(0,2,(self.pool_size, X.shape[1]))\n",
    "    \n",
    "    for iteration in range(1,self.iterations+1):\n",
    "        s_t = time.time()\n",
    "        scores = list(); fitness = list();\n",
    "    for chromosome in self.pool:\n",
    "        chosen_idx = [idx for gene, idx in zip(chromosome, range(X.shape[1])) if gene==1]\n",
    "        \n",
    "        if is_array==True: \n",
    "            adj_X = X[:,chosen_idx]\n",
    "        elif is_array==False:\n",
    "            adj_X = X.iloc[:,chosen_idx]\n",
    "            pca==False\n",
    "    \n",
    "        if pca==True:\n",
    "            adj_X = PCA(n_components=np.where(np.cumsum(PCA(n_components=adj_X.shape[1]).fit(adj_X).explained_variance_ratio_)>0.99)[0][0]+1).fit_transform(adj_X)\n",
    "    \n",
    "        if _type == 'regression':\n",
    "            if cv==True:\n",
    "                score = np.mean(cross_val_score(model, adj_X, y, scoring='r2', cv=self.kf))\n",
    "            else:\n",
    "                score = r2_score(y, model.fit(adj_X,y).predict(adj_X))\n",
    "    \n",
    "        elif _type == 'classification':\n",
    "            if cv==True:\n",
    "                score = np.mean(cross_val_score(model, adj_X, y, scoring='accuracy', cv=self.kf))\n",
    "            else:\n",
    "                score = accuracy_score(y, model.fit(adj_X,y).predict(adj_X))\n",
    "    \n",
    "        scores.append(score)\n",
    "    fitness = [x/sum(scores) for x in scores]\n",
    "    fitness, self.pool, scores = (list(t) for t in zip(*sorted(zip(fitness, [list(l) for l in list(self.pool)], scores),reverse=True)))\n",
    "    self.iterations_results['{}'.format(iteration)] = dict()\n",
    "    self.iterations_results['{}'.format(iteration)]['fitness'] = fitness\n",
    "    self.iterations_results['{}'.format(iteration)]['pool'] = self.pool\n",
    "    self.iterations_results['{}'.format(iteration)]['scores'] = scores\n",
    "    self.pool = np.array(self.pool)\n",
    "    self.pool = np.array(self.pool)\n",
    "\n",
    "    if iteration != self.iterations+1:\n",
    "        new_pool = []\n",
    "        for chromosome in self.pool[1:int((len(self.pool)/2)+1)]:\n",
    "            random_split_point = np.random.randint(1,len(chromosome))\n",
    "            next_gen1 = np.concatenate((self.pool[0][:random_split_point], chromosome[random_split_point:]), axis = 0)\n",
    "            next_gen2 = np.concatenate((chromosome[:random_split_point], self.pool[0][random_split_point:]), axis = 0)\n",
    "            for idx, gene in enumerate(next_gen1):\n",
    "                if np.random.random() < self.mutation_rate:\n",
    "                    next_gen1[idx] = 1 if gene==0 else 0\n",
    "            for idx, gene in enumerate(next_gen2):\n",
    "                if np.random.random() < self.mutation_rate:\n",
    "                    next_gen2[idx] = 1 if gene==0 else 0\n",
    "            new_pool.append(next_gen1)\n",
    "            new_pool.append(next_gen2)\n",
    "        self.pool = new_pool\n",
    "    else:\n",
    "        continue\n",
    "    if iteration % 10 == 0:\n",
    "        e_t = time.time()\n",
    "        print('Iteration {} Complete [Time Taken For Last Iteration: {} Seconds]'.format(iteration,round(e_t-s_t,2)))"
   ]
  },
  {
   "cell_type": "code",
   "execution_count": null,
   "metadata": {},
   "outputs": [],
   "source": [
    "def results(self):\n",
    "    return (self.pool[0], [idx for idx, gene in enumerate(self.pool[0]) if gene==1])\n",
    "\n",
    "def plot_progress(self):\n",
    "    avs = [np.mean(self.iterations_results[str(x)]['scores']) for x in range(1,101)]\n",
    "    avs0 = [np.mean(self.iterations_results[str(x)]['scores'][0]) for x in range(1,101)]\n",
    "    plt.plot(avs, label='Pool Average Score')\n",
    "    plt.plot(avs0, label='Best Solution Score')\n",
    "    plt.legend()\n",
    "    plt.show()"
   ]
  }
 ],
 "metadata": {
  "kernelspec": {
   "display_name": "Python 3",
   "language": "python",
   "name": "python3"
  },
  "language_info": {
   "codemirror_mode": {
    "name": "ipython",
    "version": 3
   },
   "file_extension": ".py",
   "mimetype": "text/x-python",
   "name": "python",
   "nbconvert_exporter": "python",
   "pygments_lexer": "ipython3",
   "version": "3.7.4"
  }
 },
 "nbformat": 4,
 "nbformat_minor": 2
}
